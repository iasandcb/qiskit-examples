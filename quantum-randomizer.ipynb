{
 "cells": [
  {
   "cell_type": "code",
   "execution_count": null,
   "id": "39546291",
   "metadata": {},
   "outputs": [
    {
     "name": "stdout",
     "output_type": "stream",
     "text": [
      "Requirement already satisfied: qiskit in /Users/alex/miniconda3/envs/qiskit/lib/python3.12/site-packages (2.1.0)\n",
      "Requirement already satisfied: rustworkx>=0.15.0 in /Users/alex/miniconda3/envs/qiskit/lib/python3.12/site-packages (from qiskit) (0.15.1)\n",
      "Requirement already satisfied: numpy<3,>=1.17 in /Users/alex/miniconda3/envs/qiskit/lib/python3.12/site-packages (from qiskit) (1.26.4)\n",
      "Requirement already satisfied: scipy>=1.5 in /Users/alex/miniconda3/envs/qiskit/lib/python3.12/site-packages (from qiskit) (1.13.0)\n",
      "Requirement already satisfied: dill>=0.3 in /Users/alex/miniconda3/envs/qiskit/lib/python3.12/site-packages (from qiskit) (0.3.8)\n",
      "Requirement already satisfied: stevedore>=3.0.0 in /Users/alex/miniconda3/envs/qiskit/lib/python3.12/site-packages (from qiskit) (5.2.0)\n",
      "Requirement already satisfied: typing-extensions in /Users/alex/miniconda3/envs/qiskit/lib/python3.12/site-packages (from qiskit) (4.11.0)\n",
      "Requirement already satisfied: pbr!=2.1.0,>=2.0.0 in /Users/alex/miniconda3/envs/qiskit/lib/python3.12/site-packages (from stevedore>=3.0.0->qiskit) (6.0.0)\n",
      "Requirement already satisfied: qiskit-ibm-runtime in /Users/alex/miniconda3/envs/qiskit/lib/python3.12/site-packages (0.40.1)\n",
      "Requirement already satisfied: requests>=2.19 in /Users/alex/miniconda3/envs/qiskit/lib/python3.12/site-packages (from qiskit-ibm-runtime) (2.31.0)\n",
      "Requirement already satisfied: requests-ntlm>=1.1.0 in /Users/alex/miniconda3/envs/qiskit/lib/python3.12/site-packages (from qiskit-ibm-runtime) (1.2.0)\n",
      "Requirement already satisfied: numpy>=1.13 in /Users/alex/miniconda3/envs/qiskit/lib/python3.12/site-packages (from qiskit-ibm-runtime) (1.26.4)\n",
      "Requirement already satisfied: urllib3>=1.21.1 in /Users/alex/miniconda3/envs/qiskit/lib/python3.12/site-packages (from qiskit-ibm-runtime) (2.2.1)\n",
      "Requirement already satisfied: python-dateutil>=2.8.0 in /Users/alex/miniconda3/envs/qiskit/lib/python3.12/site-packages (from qiskit-ibm-runtime) (2.9.0.post0)\n",
      "Requirement already satisfied: ibm-platform-services>=0.22.6 in /Users/alex/miniconda3/envs/qiskit/lib/python3.12/site-packages (from qiskit-ibm-runtime) (0.53.3)\n",
      "Requirement already satisfied: pydantic>=2.5.0 in /Users/alex/miniconda3/envs/qiskit/lib/python3.12/site-packages (from qiskit-ibm-runtime) (2.7.0)\n",
      "Requirement already satisfied: qiskit>=1.4.1 in /Users/alex/miniconda3/envs/qiskit/lib/python3.12/site-packages (from qiskit-ibm-runtime) (2.1.0)\n",
      "Requirement already satisfied: packaging in /Users/alex/miniconda3/envs/qiskit/lib/python3.12/site-packages (from qiskit-ibm-runtime) (24.0)\n",
      "Requirement already satisfied: ibm-cloud-sdk-core<4.0.0,>=3.19.2 in /Users/alex/miniconda3/envs/qiskit/lib/python3.12/site-packages (from ibm-platform-services>=0.22.6->qiskit-ibm-runtime) (3.19.2)\n",
      "Requirement already satisfied: annotated-types>=0.4.0 in /Users/alex/miniconda3/envs/qiskit/lib/python3.12/site-packages (from pydantic>=2.5.0->qiskit-ibm-runtime) (0.6.0)\n",
      "Requirement already satisfied: pydantic-core==2.18.1 in /Users/alex/miniconda3/envs/qiskit/lib/python3.12/site-packages (from pydantic>=2.5.0->qiskit-ibm-runtime) (2.18.1)\n",
      "Requirement already satisfied: typing-extensions>=4.6.1 in /Users/alex/miniconda3/envs/qiskit/lib/python3.12/site-packages (from pydantic>=2.5.0->qiskit-ibm-runtime) (4.11.0)\n",
      "Requirement already satisfied: six>=1.5 in /Users/alex/miniconda3/envs/qiskit/lib/python3.12/site-packages (from python-dateutil>=2.8.0->qiskit-ibm-runtime) (1.16.0)\n",
      "Requirement already satisfied: rustworkx>=0.15.0 in /Users/alex/miniconda3/envs/qiskit/lib/python3.12/site-packages (from qiskit>=1.4.1->qiskit-ibm-runtime) (0.15.1)\n",
      "Requirement already satisfied: scipy>=1.5 in /Users/alex/miniconda3/envs/qiskit/lib/python3.12/site-packages (from qiskit>=1.4.1->qiskit-ibm-runtime) (1.13.0)\n",
      "Requirement already satisfied: dill>=0.3 in /Users/alex/miniconda3/envs/qiskit/lib/python3.12/site-packages (from qiskit>=1.4.1->qiskit-ibm-runtime) (0.3.8)\n",
      "Requirement already satisfied: stevedore>=3.0.0 in /Users/alex/miniconda3/envs/qiskit/lib/python3.12/site-packages (from qiskit>=1.4.1->qiskit-ibm-runtime) (5.2.0)\n",
      "Requirement already satisfied: charset-normalizer<4,>=2 in /Users/alex/miniconda3/envs/qiskit/lib/python3.12/site-packages (from requests>=2.19->qiskit-ibm-runtime) (3.3.2)\n",
      "Requirement already satisfied: idna<4,>=2.5 in /Users/alex/miniconda3/envs/qiskit/lib/python3.12/site-packages (from requests>=2.19->qiskit-ibm-runtime) (3.7)\n",
      "Requirement already satisfied: certifi>=2017.4.17 in /Users/alex/miniconda3/envs/qiskit/lib/python3.12/site-packages (from requests>=2.19->qiskit-ibm-runtime) (2024.2.2)\n",
      "Requirement already satisfied: cryptography>=1.3 in /Users/alex/miniconda3/envs/qiskit/lib/python3.12/site-packages (from requests-ntlm>=1.1.0->qiskit-ibm-runtime) (42.0.5)\n",
      "Requirement already satisfied: pyspnego>=0.1.6 in /Users/alex/miniconda3/envs/qiskit/lib/python3.12/site-packages (from requests-ntlm>=1.1.0->qiskit-ibm-runtime) (0.10.2)\n",
      "Requirement already satisfied: cffi>=1.12 in /Users/alex/miniconda3/envs/qiskit/lib/python3.12/site-packages (from cryptography>=1.3->requests-ntlm>=1.1.0->qiskit-ibm-runtime) (1.16.0)\n",
      "Requirement already satisfied: PyJWT<3.0.0,>=2.8.0 in /Users/alex/miniconda3/envs/qiskit/lib/python3.12/site-packages (from ibm-cloud-sdk-core<4.0.0,>=3.19.2->ibm-platform-services>=0.22.6->qiskit-ibm-runtime) (2.8.0)\n",
      "Requirement already satisfied: pbr!=2.1.0,>=2.0.0 in /Users/alex/miniconda3/envs/qiskit/lib/python3.12/site-packages (from stevedore>=3.0.0->qiskit>=1.4.1->qiskit-ibm-runtime) (6.0.0)\n",
      "Requirement already satisfied: pycparser in /Users/alex/miniconda3/envs/qiskit/lib/python3.12/site-packages (from cffi>=1.12->cryptography>=1.3->requests-ntlm>=1.1.0->qiskit-ibm-runtime) (2.22)\n",
      "Requirement already satisfied: qiskit-aer in /Users/alex/miniconda3/envs/qiskit/lib/python3.12/site-packages (0.17.1)\n",
      "Requirement already satisfied: qiskit>=1.1.0 in /Users/alex/miniconda3/envs/qiskit/lib/python3.12/site-packages (from qiskit-aer) (2.1.0)\n",
      "Requirement already satisfied: numpy>=1.16.3 in /Users/alex/miniconda3/envs/qiskit/lib/python3.12/site-packages (from qiskit-aer) (1.26.4)\n",
      "Requirement already satisfied: scipy>=1.0 in /Users/alex/miniconda3/envs/qiskit/lib/python3.12/site-packages (from qiskit-aer) (1.13.0)\n",
      "Requirement already satisfied: psutil>=5 in /Users/alex/miniconda3/envs/qiskit/lib/python3.12/site-packages (from qiskit-aer) (5.9.8)\n",
      "Requirement already satisfied: python-dateutil>=2.8.0 in /Users/alex/miniconda3/envs/qiskit/lib/python3.12/site-packages (from qiskit-aer) (2.9.0.post0)\n",
      "Requirement already satisfied: six>=1.5 in /Users/alex/miniconda3/envs/qiskit/lib/python3.12/site-packages (from python-dateutil>=2.8.0->qiskit-aer) (1.16.0)\n",
      "Requirement already satisfied: rustworkx>=0.15.0 in /Users/alex/miniconda3/envs/qiskit/lib/python3.12/site-packages (from qiskit>=1.1.0->qiskit-aer) (0.15.1)\n",
      "Requirement already satisfied: dill>=0.3 in /Users/alex/miniconda3/envs/qiskit/lib/python3.12/site-packages (from qiskit>=1.1.0->qiskit-aer) (0.3.8)\n",
      "Requirement already satisfied: stevedore>=3.0.0 in /Users/alex/miniconda3/envs/qiskit/lib/python3.12/site-packages (from qiskit>=1.1.0->qiskit-aer) (5.2.0)\n",
      "Requirement already satisfied: typing-extensions in /Users/alex/miniconda3/envs/qiskit/lib/python3.12/site-packages (from qiskit>=1.1.0->qiskit-aer) (4.11.0)\n",
      "Requirement already satisfied: pbr!=2.1.0,>=2.0.0 in /Users/alex/miniconda3/envs/qiskit/lib/python3.12/site-packages (from stevedore>=3.0.0->qiskit>=1.1.0->qiskit-aer) (6.0.0)\n"
     ]
    }
   ],
   "source": [
    "!pip install qiskit\n",
    "!pip install qiskit-ibm-runtime\n",
    "!pip install qiskit-aer"
   ]
  },
  {
   "cell_type": "code",
   "execution_count": null,
   "id": "4bd850bf",
   "metadata": {},
   "outputs": [],
   "source": [
    "\n",
    "# 최초 1회만 실행하면 됩니다.\n",
    "from qiskit_ibm_runtime import QiskitRuntimeService\n",
    "\n",
    "token=\"Your IBM Quantum API token here\"\n",
    "\n",
    "service = QiskitRuntimeService.save_account(\n",
    "  token=token,\n",
    "  channel=\"ibm_quantum_platform\",\n",
    "  overwrite=True\n",
    "  )"
   ]
  },
  {
   "cell_type": "code",
   "execution_count": 1,
   "id": "951236bb",
   "metadata": {},
   "outputs": [
    {
     "name": "stderr",
     "output_type": "stream",
     "text": [
      "qiskit_runtime_service._resolve_cloud_instances:WARNING:2025-06-24 08:55:04,011: Default instance not set. Searching all available instances.\n"
     ]
    }
   ],
   "source": [
    "# 위의 작업을 완료한 후에는 아래의 코드를 사용하여 IBM Quantum 서비스에 연결할 수 있습니다.\n",
    "from qiskit_ibm_runtime import QiskitRuntimeService\n",
    "\n",
    "service = QiskitRuntimeService()"
   ]
  },
  {
   "cell_type": "code",
   "execution_count": 6,
   "id": "c9e1e0cb",
   "metadata": {},
   "outputs": [
    {
     "name": "stdout",
     "output_type": "stream",
     "text": [
      "{'0': 1}\n",
      "0\n"
     ]
    }
   ],
   "source": [
    "from qiskit import QuantumCircuit\n",
    "from qiskit_aer.primitives import SamplerV2\n",
    "\n",
    "# 1개의 큐비트와 1개의 고전 비트 레지스터를 생성합니다.\n",
    "circuit = QuantumCircuit(1, 1) # QuantumCircuit(큐비트 수, 고전 비트 수)\n",
    "\n",
    "# 큐비트에 Hadamard 게이트를 적용하여 중첩 상태로 만듭니다.\n",
    "circuit.h(0)\n",
    "\n",
    "# 큐비트를 측정하고 결과를 고전 비트에 저장합니다.\n",
    "circuit.measure(0, 0)\n",
    "\n",
    "# Sampler 프리미티브를 초기화합니다. (기본적으로 Aer 시뮬레이터를 사용합니다.)\n",
    "sampler = SamplerV2()\n",
    "\n",
    "# 회로를 Sampler에 제출하고 실행합니다.\n",
    "# shots=1은 1번만 측정하여 하나의 난수 비트를 얻겠다는 의미입니다.\n",
    "job = sampler.run([circuit], shots=1) # SamplerV2 run method expects a list of circuits\n",
    "result = job.result()\n",
    "pub_result = result[0]\n",
    "\n",
    "counts = pub_result.data.c.get_counts()\n",
    "print(counts)\n",
    "\n",
    "# 결과 출력\n",
    "random_bits_str = list(counts.keys())[0]\n",
    "print(random_bits_str)\n"
   ]
  },
  {
   "cell_type": "code",
   "execution_count": 8,
   "id": "cb7a76cf",
   "metadata": {},
   "outputs": [
    {
     "name": "stdout",
     "output_type": "stream",
     "text": [
      ">>> Job ID: d19veumpmg9c73956qvg\n"
     ]
    }
   ],
   "source": [
    "from qiskit import QuantumCircuit\n",
    "from qiskit_ibm_runtime import SamplerV2 as Sampler\n",
    "from qiskit.transpiler import generate_preset_pass_manager\n",
    "\n",
    "# 1개의 큐비트와 1개의 고전 비트 레지스터를 생성합니다.\n",
    "circuit = QuantumCircuit(1, 1) # QuantumCircuit(큐비트 수, 고전 비트 수)\n",
    "\n",
    "# 큐비트에 Hadamard 게이트를 적용하여 중첩 상태로 만듭니다.\n",
    "circuit.h(0)\n",
    "\n",
    "# 큐비트를 측정하고 결과를 고전 비트에 저장합니다.\n",
    "circuit.measure(0, 0)\n",
    "\n",
    "backend = service.least_busy(simulator=False, operational=True)\n",
    "\n",
    "sampler = Sampler(mode=backend)\n",
    "# Get the target from the backend\n",
    "target = backend.target\n",
    "\n",
    "# Generate a pass manager for transpilation\n",
    "pass_manager = generate_preset_pass_manager(target=target, optimization_level=1)\n",
    "\n",
    "# Transpile the circuit\n",
    "transpiled_circuit = pass_manager.run(circuit)\n",
    "\n",
    "# Now run the transpiled circuit on the Sampler\n",
    "# job = sampler.run([circuit], shots=1)\n",
    "job = sampler.run([transpiled_circuit], shots=1)\n",
    "print(f\">>> Job ID: {job.job_id()}\")"
   ]
  },
  {
   "cell_type": "code",
   "execution_count": 11,
   "id": "71674516",
   "metadata": {},
   "outputs": [
    {
     "name": "stdout",
     "output_type": "stream",
     "text": [
      "측정 결과: {'1': 1}\n",
      "1\n"
     ]
    }
   ],
   "source": [
    "# Retrieve the job result\n",
    "result = job.result()\n",
    "\n",
    "pub_result = result[0]\n",
    "\n",
    "# Get the counts from the result\n",
    "counts = pub_result.data.c.get_counts()\n",
    "\n",
    "# Print the results (should be either 0 or 1)\n",
    "print(\"측정 결과:\", counts)\n",
    "\n",
    "# 결과 출력\n",
    "random_bits_str = list(counts.keys())[0]\n",
    "print(random_bits_str)"
   ]
  },
  {
   "cell_type": "code",
   "execution_count": 6,
   "id": "c00cc54d",
   "metadata": {},
   "outputs": [
    {
     "name": "stdout",
     "output_type": "stream",
     "text": [
      "난수 0로 생성된 순열: [1, 2, 3, 4, 5, 6, 7]\n",
      "난수 5039로 생성된 순열: [7, 6, 5, 4, 3, 2, 1]\n",
      "난수 4486로 생성된 순열: [7, 2, 3, 6, 5, 1, 4]\n"
     ]
    }
   ],
   "source": [
    "import random\n",
    "\n",
    "def get_permutation_from_single_random_number(random_rank):\n",
    "    \"\"\"\n",
    "    하나의 난수(rank)를 사용하여 1부터 7까지의 순열을 생성합니다.\n",
    "    random_rank는 0부터 5039까지의 정수여야 합니다.\n",
    "    \"\"\"\n",
    "\n",
    "    n_elements = 7\n",
    "    # 1부터 n_elements까지의 숫자를 리스트로 만듭니다.\n",
    "    elements = list(range(1, n_elements + 1))\n",
    "    permutation = []\n",
    "\n",
    "    # 팩토리얼 값 미리 계산 (디랭크 알고리즘에 필요)\n",
    "    # factorial[0] = 1, factorial[1] = 1, factorial[2] = 2, ..., factorial[6] = 720\n",
    "    factorials = [1] * (n_elements + 1)\n",
    "    for i in range(2, n_elements + 1):\n",
    "        factorials[i] = factorials[i-1] * i\n",
    "\n",
    "    current_rank = random_rank\n",
    "\n",
    "    for i in range(n_elements - 1, -1, -1): # 6부터 0까지 반복\n",
    "        # 현재 팩토리얼 자리수 (i!)로 나눈 몫이 인덱스가 됩니다.\n",
    "        index = current_rank // factorials[i]\n",
    "\n",
    "        # 해당 인덱스의 숫자를 결과 순열에 추가하고 원본 리스트에서 제거\n",
    "        permutation.append(elements.pop(index))\n",
    "\n",
    "        # 나머지 랭크를 다음 반복을 위해 갱신합니다.\n",
    "        current_rank %= factorials[i]\n",
    "\n",
    "    return permutation\n",
    "\n",
    "# ----------------------------------------------------------------------\n",
    "# 사용 예시:\n",
    "# 1. 0부터 5039 사이의 난수 한 개를 생성합니다.\n",
    "#    (이 예시에서는 편의상 random.randint를 사용하지만,\n",
    "#     실제 시스템의 0 ~ 2^n-1 난수를 0 ~ 5039로 변환하는 과정이 중요합니다.)\n",
    "\n",
    "# 예시 1: 특정 난수 값 (0은 오름차순 정렬된 순열을 의미)\n",
    "single_random_number = 0\n",
    "shuffled_result = get_permutation_from_single_random_number(single_random_number)\n",
    "print(f\"난수 {single_random_number}로 생성된 순열: {shuffled_result}\")\n",
    "# 예상 출력: [1, 2, 3, 4, 5, 6, 7]\n",
    "\n",
    "# 예시 2: 다른 특정 난수 값 (5039는 내림차순 정렬된 순열을 의미)\n",
    "single_random_number = 5039\n",
    "shuffled_result = get_permutation_from_single_random_number(single_random_number)\n",
    "print(f\"난수 {single_random_number}로 생성된 순열: {shuffled_result}\")\n",
    "# 예상 출력: [7, 6, 5, 4, 3, 2, 1]\n",
    "\n",
    "# 예시 3: 무작위 난수 값\n",
    "# (실제 환경에서는 여기서 0 ~ 2^n-1 난수를 받아서 편향 없이 0 ~ 5039로 변환해야 합니다.)\n",
    "rand_val_for_example = random.randint(0, 5039)\n",
    "shuffled_result = get_permutation_from_single_random_number(rand_val_for_example)\n",
    "print(f\"난수 {rand_val_for_example}로 생성된 순열: {shuffled_result}\")"
   ]
  },
  {
   "cell_type": "code",
   "execution_count": 4,
   "id": "3de9fa5b",
   "metadata": {},
   "outputs": [
    {
     "name": "stdout",
     "output_type": "stream",
     "text": [
      ">>> Job ID: d1cukck7tq0c73ddu060\n"
     ]
    }
   ],
   "source": [
    "from qiskit import QuantumCircuit\n",
    "from qiskit_ibm_runtime import SamplerV2 as Sampler\n",
    "\n",
    "# 3개의 큐비트와 3개의 고전 비트 레지스터를 생성합니다.\n",
    "num_bits = 13\n",
    "circuit = QuantumCircuit(num_bits, num_bits) # QuantumCircuit(큐비트 수, 고전 비트 수)\n",
    "\n",
    "# 각 큐비트에 Hadamard 게이트를 적용하여 중첩 상태로 만듭니다.\n",
    "for i in range(num_bits):\n",
    "    circuit.h(i)\n",
    "\n",
    "# 모든 큐비트를 측정하고 결과를 해당 고전 비트에 저장합니다.\n",
    "# measure(source_qubits, target_classical_bits)\n",
    "circuit.measure(range(num_bits), range(num_bits))\n",
    "\n",
    "backend = service.least_busy(simulator=False, operational=True)\n",
    "sampler = Sampler(mode=backend)\n",
    "\n",
    "from qiskit.transpiler import generate_preset_pass_manager\n",
    "\n",
    "# Get the target from the backend\n",
    "target = backend.target\n",
    "\n",
    "# Generate a pass manager for transpilation\n",
    "pass_manager = generate_preset_pass_manager(target=target, optimization_level=1)\n",
    "\n",
    "# Transpile the circuit\n",
    "transpiled_circuit = pass_manager.run(circuit)\n",
    "\n",
    "job = sampler.run([transpiled_circuit], shots=1)\n",
    "print(f\">>> Job ID: {job.job_id()}\")"
   ]
  },
  {
   "cell_type": "code",
   "execution_count": null,
   "id": "69b3487b",
   "metadata": {},
   "outputs": [],
   "source": [
    "from qiskit_ibm_runtime import QiskitRuntimeService\n",
    "\n",
    "instance = 'URN'\n",
    "job_id = 'ID'\n",
    "\n",
    "service = QiskitRuntimeService(\n",
    "    channel='ibm_quantum_platform',\n",
    "    instance=instance\n",
    ")\n",
    "job = service.job(job_id)\n",
    "result = job.result()"
   ]
  },
  {
   "cell_type": "code",
   "execution_count": null,
   "id": "65b11fae",
   "metadata": {},
   "outputs": [
    {
     "name": "stdout",
     "output_type": "stream",
     "text": [
      "정수 형태: 1434\n",
      "[10, 15, 14, 13, 9, 11, 12]\n"
     ]
    }
   ],
   "source": [
    "pub_result = result[0]\n",
    "\n",
    "counts = pub_result.data.c.get_counts()\n",
    "\n",
    "# 결과 출력\n",
    "random_bits_str = list(counts.keys())[0]\n",
    "\n",
    "# 만약 int형으로 변환하고 싶다면:\n",
    "random_integer = int(random_bits_str, 2)\n",
    "print(f\"정수 형태: {random_integer}\")\n",
    "if random_integer < 5040:\n",
    "  shuffled_result = get_permutation_from_single_random_number(random_integer)\n",
    "  team_list = list(map(lambda x: x + 8, shuffled_result))\n",
    "  print(team_list)"
   ]
  },
  {
   "cell_type": "code",
   "execution_count": null,
   "id": "5ca1a9f8",
   "metadata": {},
   "outputs": [],
   "source": []
  }
 ],
 "metadata": {
  "kernelspec": {
   "display_name": "Python 3",
   "language": "python",
   "name": "python3"
  },
  "language_info": {
   "codemirror_mode": {
    "name": "ipython",
    "version": 3
   },
   "file_extension": ".py",
   "mimetype": "text/x-python",
   "name": "python",
   "nbconvert_exporter": "python",
   "pygments_lexer": "ipython3",
   "version": "3.12.2"
  }
 },
 "nbformat": 4,
 "nbformat_minor": 5
}
